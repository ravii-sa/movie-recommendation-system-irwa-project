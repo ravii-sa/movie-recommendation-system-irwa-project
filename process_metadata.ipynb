{
 "cells": [
  {
   "cell_type": "code",
   "execution_count": 1,
   "metadata": {},
   "outputs": [
    {
     "name": "stderr",
     "output_type": "stream",
     "text": [
      "C:\\Users\\USER\\AppData\\Local\\Temp\\ipykernel_14636\\3087031659.py:3: DtypeWarning: Columns (10) have mixed types. Specify dtype option on import or set low_memory=False.\n",
      "  metadata = pd.read_csv(\"./datasets/movies_metadata.csv\")\n"
     ]
    }
   ],
   "source": [
    "import pandas as pd\n",
    "\n",
    "metadata = pd.read_csv(\"./datasets/movies_metadata.csv\")\n",
    "links = pd.read_csv(\"./datasets/links.csv\")"
   ]
  },
  {
   "cell_type": "code",
   "execution_count": 2,
   "metadata": {},
   "outputs": [
    {
     "data": {
      "text/plain": [
       "(45383, 27)"
      ]
     },
     "execution_count": 2,
     "metadata": {},
     "output_type": "execute_result"
    }
   ],
   "source": [
    "metadata['imdb_id'] = metadata['imdb_id'].str.replace('tt', '')\n",
    "metadata['imdb_id'] = metadata['imdb_id'].astype('Int64')\n",
    "\n",
    "metadata = pd.merge(metadata, links, left_on='imdb_id', right_on='imdbId', how='inner')\n",
    "del links\n",
    "\n",
    "metadata.shape"
   ]
  },
  {
   "cell_type": "code",
   "execution_count": 3,
   "metadata": {},
   "outputs": [
    {
     "data": {
      "text/plain": [
       "17472    /8W9L7ByduypXKD7AticK7GvGqTE.jpg\n",
       "Name: poster_path, dtype: object"
      ]
     },
     "execution_count": 3,
     "metadata": {},
     "output_type": "execute_result"
    }
   ],
   "source": [
    "metadata[metadata['title'] == \"The Smurfs\"][\"poster_path\"]"
   ]
  },
  {
   "cell_type": "code",
   "execution_count": 4,
   "metadata": {},
   "outputs": [
    {
     "data": {
      "text/plain": [
       "Index(['adult', 'belongs_to_collection', 'budget', 'genres', 'homepage', 'id',\n",
       "       'imdb_id', 'original_language', 'original_title', 'overview',\n",
       "       'popularity', 'poster_path', 'production_companies',\n",
       "       'production_countries', 'release_date', 'revenue', 'runtime',\n",
       "       'spoken_languages', 'status', 'tagline', 'title', 'video',\n",
       "       'vote_average', 'vote_count', 'movieId', 'imdbId', 'tmdbId'],\n",
       "      dtype='object')"
      ]
     },
     "execution_count": 4,
     "metadata": {},
     "output_type": "execute_result"
    }
   ],
   "source": [
    "metadata.columns"
   ]
  },
  {
   "cell_type": "code",
   "execution_count": 5,
   "metadata": {},
   "outputs": [
    {
     "data": {
      "text/plain": [
       "(21745, 27)"
      ]
     },
     "execution_count": 5,
     "metadata": {},
     "output_type": "execute_result"
    }
   ],
   "source": [
    "metadata = metadata[metadata['vote_count'] > 10]\n",
    "metadata.shape"
   ]
  },
  {
   "cell_type": "code",
   "execution_count": 6,
   "metadata": {},
   "outputs": [
    {
     "data": {
      "text/html": [
       "<div>\n",
       "<style scoped>\n",
       "    .dataframe tbody tr th:only-of-type {\n",
       "        vertical-align: middle;\n",
       "    }\n",
       "\n",
       "    .dataframe tbody tr th {\n",
       "        vertical-align: top;\n",
       "    }\n",
       "\n",
       "    .dataframe thead th {\n",
       "        text-align: right;\n",
       "    }\n",
       "</style>\n",
       "<table border=\"1\" class=\"dataframe\">\n",
       "  <thead>\n",
       "    <tr style=\"text-align: right;\">\n",
       "      <th></th>\n",
       "      <th>genres</th>\n",
       "      <th>production_companies</th>\n",
       "      <th>production_countries</th>\n",
       "    </tr>\n",
       "  </thead>\n",
       "  <tbody>\n",
       "    <tr>\n",
       "      <th>0</th>\n",
       "      <td>Animation, Comedy, Family</td>\n",
       "      <td>Pixar Animation Studios</td>\n",
       "      <td>United States of America</td>\n",
       "    </tr>\n",
       "    <tr>\n",
       "      <th>1</th>\n",
       "      <td>Adventure, Fantasy, Family</td>\n",
       "      <td>TriStar Pictures, Teitler Film, Interscope Com...</td>\n",
       "      <td>United States of America</td>\n",
       "    </tr>\n",
       "    <tr>\n",
       "      <th>2</th>\n",
       "      <td>Romance, Comedy</td>\n",
       "      <td>Warner Bros., Lancaster Gate</td>\n",
       "      <td>United States of America</td>\n",
       "    </tr>\n",
       "    <tr>\n",
       "      <th>3</th>\n",
       "      <td>Comedy, Drama, Romance</td>\n",
       "      <td>Twentieth Century Fox Film Corporation</td>\n",
       "      <td>United States of America</td>\n",
       "    </tr>\n",
       "    <tr>\n",
       "      <th>4</th>\n",
       "      <td>Comedy</td>\n",
       "      <td>Sandollar Productions, Touchstone Pictures</td>\n",
       "      <td>United States of America</td>\n",
       "    </tr>\n",
       "    <tr>\n",
       "      <th>...</th>\n",
       "      <td>...</td>\n",
       "      <td>...</td>\n",
       "      <td>...</td>\n",
       "    </tr>\n",
       "    <tr>\n",
       "      <th>45360</th>\n",
       "      <td>Comedy, Fantasy, Science Fiction</td>\n",
       "      <td>Star Film Company</td>\n",
       "      <td>France</td>\n",
       "    </tr>\n",
       "    <tr>\n",
       "      <th>45363</th>\n",
       "      <td>Fantasy, Comedy</td>\n",
       "      <td>Star Film Company</td>\n",
       "      <td>France</td>\n",
       "    </tr>\n",
       "    <tr>\n",
       "      <th>45367</th>\n",
       "      <td>Fantasy, Action, Thriller</td>\n",
       "      <td>Star Film Company</td>\n",
       "      <td>France</td>\n",
       "    </tr>\n",
       "    <tr>\n",
       "      <th>45370</th>\n",
       "      <td>Crime, Drama, Thriller</td>\n",
       "      <td>Mad Films, Third Eye Pictures</td>\n",
       "      <td>India</td>\n",
       "    </tr>\n",
       "    <tr>\n",
       "      <th>45377</th>\n",
       "      <td>Drama, Action, Romance</td>\n",
       "      <td>Westdeutscher Rundfunk (WDR), Working Title Fi...</td>\n",
       "      <td>Canada, Germany, United Kingdom, United States...</td>\n",
       "    </tr>\n",
       "  </tbody>\n",
       "</table>\n",
       "<p>21745 rows × 3 columns</p>\n",
       "</div>"
      ],
      "text/plain": [
       "                                 genres  \\\n",
       "0             Animation, Comedy, Family   \n",
       "1            Adventure, Fantasy, Family   \n",
       "2                       Romance, Comedy   \n",
       "3                Comedy, Drama, Romance   \n",
       "4                                Comedy   \n",
       "...                                 ...   \n",
       "45360  Comedy, Fantasy, Science Fiction   \n",
       "45363                   Fantasy, Comedy   \n",
       "45367         Fantasy, Action, Thriller   \n",
       "45370            Crime, Drama, Thriller   \n",
       "45377            Drama, Action, Romance   \n",
       "\n",
       "                                    production_companies  \\\n",
       "0                                Pixar Animation Studios   \n",
       "1      TriStar Pictures, Teitler Film, Interscope Com...   \n",
       "2                           Warner Bros., Lancaster Gate   \n",
       "3                 Twentieth Century Fox Film Corporation   \n",
       "4             Sandollar Productions, Touchstone Pictures   \n",
       "...                                                  ...   \n",
       "45360                                  Star Film Company   \n",
       "45363                                  Star Film Company   \n",
       "45367                                  Star Film Company   \n",
       "45370                      Mad Films, Third Eye Pictures   \n",
       "45377  Westdeutscher Rundfunk (WDR), Working Title Fi...   \n",
       "\n",
       "                                    production_countries  \n",
       "0                               United States of America  \n",
       "1                               United States of America  \n",
       "2                               United States of America  \n",
       "3                               United States of America  \n",
       "4                               United States of America  \n",
       "...                                                  ...  \n",
       "45360                                             France  \n",
       "45363                                             France  \n",
       "45367                                             France  \n",
       "45370                                              India  \n",
       "45377  Canada, Germany, United Kingdom, United States...  \n",
       "\n",
       "[21745 rows x 3 columns]"
      ]
     },
     "execution_count": 6,
     "metadata": {},
     "output_type": "execute_result"
    }
   ],
   "source": [
    "import ast\n",
    "\n",
    "metadata['genres'] = metadata['genres'].apply(lambda x: ', '.join([i['name'] for i in ast.literal_eval(x)] if isinstance(x, str) else ''))\n",
    "metadata['production_companies'] = metadata['production_companies'].apply(lambda x: ', '.join([i['name'] for i in ast.literal_eval(x)] if isinstance(x, str) else ''))\n",
    "metadata['production_countries'] = metadata['production_countries'].apply(lambda x: ', '.join([i['name'] for i in ast.literal_eval(x)] if isinstance(x, str) else ''))\n",
    "\n",
    "metadata[['genres', 'production_companies', 'production_countries']]\n"
   ]
  },
  {
   "cell_type": "code",
   "execution_count": 8,
   "metadata": {},
   "outputs": [],
   "source": [
    "import numpy as np\n",
    "\n",
    "metadata['order'] = np.log(metadata['vote_count']) * (metadata['vote_average'] - 5)"
   ]
  },
  {
   "cell_type": "code",
   "execution_count": 9,
   "metadata": {},
   "outputs": [],
   "source": [
    "# save to csv\n",
    "metadata.to_csv('app/exports/metadata.csv', index=False)"
   ]
  }
 ],
 "metadata": {
  "kernelspec": {
   "display_name": ".venv",
   "language": "python",
   "name": "python3"
  },
  "language_info": {
   "codemirror_mode": {
    "name": "ipython",
    "version": 3
   },
   "file_extension": ".py",
   "mimetype": "text/x-python",
   "name": "python",
   "nbconvert_exporter": "python",
   "pygments_lexer": "ipython3",
   "version": "3.11.3"
  }
 },
 "nbformat": 4,
 "nbformat_minor": 2
}
