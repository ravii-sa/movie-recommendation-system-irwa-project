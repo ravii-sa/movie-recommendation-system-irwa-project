{
 "cells": [
  {
   "cell_type": "code",
   "execution_count": 1,
   "metadata": {},
   "outputs": [
    {
     "name": "stderr",
     "output_type": "stream",
     "text": [
      "C:\\Users\\USER\\AppData\\Local\\Temp\\ipykernel_25240\\895443741.py:3: DtypeWarning: Columns (10) have mixed types. Specify dtype option on import or set low_memory=False.\n",
      "  metadata = pd.read_csv(\"./datasets/movies_metadata.csv\")\n"
     ]
    }
   ],
   "source": [
    "import pandas as pd\n",
    "\n",
    "metadata = pd.read_csv(\"./datasets/movies_metadata.csv\")\n",
    "links = pd.read_csv(\"./datasets/links.csv\")\n",
    "\n",
    "metadata['imdb_id'] = metadata['imdb_id'].str.replace('tt', '')\n",
    "metadata['imdb_id'] = metadata['imdb_id'].astype('Int64')\n",
    "\n",
    "metadata = pd.merge(metadata, links, left_on='imdb_id', right_on='imdbId', how='inner')"
   ]
  },
  {
   "cell_type": "code",
   "execution_count": 2,
   "metadata": {},
   "outputs": [],
   "source": [
    "import pickle\n",
    "\n",
    "with open('app/exports/collaborative_similarity.pkl', 'rb') as f:\n",
    "    collaborative_similarity = pickle.load(f)\n",
    "\n",
    "with open('app/exports/content_similarity.pkl', 'rb') as f:\n",
    "    content_similarity = pickle.load(f)\n"
   ]
  },
  {
   "cell_type": "code",
   "execution_count": 6,
   "metadata": {},
   "outputs": [
    {
     "name": "stdout",
     "output_type": "stream",
     "text": [
      "87876 \t 5.335488086772637 \t Cars 2\n",
      "149406 \t 5.335488086772636 \t Kung Fu Panda 3\n",
      "87222 \t 1.133555545018469 \t Kung Fu Panda 2\n",
      "59784 \t 1.117124477439927 \t Kung Fu Panda\n",
      "45517 \t 1.0991295143457895 \t Cars\n",
      "33615 \t 0.7939024289911609 \t Madagascar\n",
      "48 \t 0.7891813732215541 \t Pocahontas\n",
      "112175 \t 0.7657060122079298 \t How to Train Your Dragon 2\n",
      "3745 \t 0.74716157144604 \t Titan A.E.\n",
      "5389 \t 0.7445715980628602 \t Spirit: Stallion of the Cimarron\n",
      "157296 \t 0.726710090784189 \t Finding Dory\n",
      "53121 \t 0.6877642180466967 \t Shrek the Third\n",
      "95543 \t 0.6863421224839777 \t Ice Age: Continental Drift\n",
      "98491 \t 0.6809319566604137 \t Paperman\n",
      "101142 \t 0.6803902939203048 \t The Croods\n",
      "6188 \t 0.6802293117740438 \t Old School\n",
      "2294 \t 0.6789824811783758 \t Antz\n",
      "38038 \t 0.6587686243429863 \t The Curse of the Were-Rabbit\n",
      "103141 \t 0.6490172020122009 \t Monsters University\n",
      "81564 \t 0.6388389597382744 \t Megamind\n"
     ]
    }
   ],
   "source": [
    "\"\"\"\n",
    "movies : [(movieId, rating), (movieId, rating), (movieId, rating)...]\n",
    "\"\"\"\n",
    "def recommend(movies, n=20):\n",
    "    movie_ids = [movie[0] for movie in movies]\n",
    "    ratings = [movie[1] - 2.5 for movie in movies]\n",
    "\n",
    "    movie_similarities = (content_similarity.get(movie_ids, 0) + collaborative_similarity.get(movie_ids, 0)) * ratings\n",
    "    movie_similarities = movie_similarities.sum(axis=1)\n",
    "\n",
    "    movie_similarities = sorted(list(zip(movie_similarities.index, movie_similarities)), key=lambda x: x[1], reverse=True)\n",
    "    \n",
    "    return movie_similarities[:n]\n",
    "\n",
    "for movie, val in recommend([(149406,5), (87876, 5)]):\n",
    "    print(movie, '\\t', val, '\\t', metadata[metadata['movieId'] == movie]['title'].values[0])"
   ]
  }
 ],
 "metadata": {
  "kernelspec": {
   "display_name": ".venv",
   "language": "python",
   "name": "python3"
  },
  "language_info": {
   "codemirror_mode": {
    "name": "ipython",
    "version": 3
   },
   "file_extension": ".py",
   "mimetype": "text/x-python",
   "name": "python",
   "nbconvert_exporter": "python",
   "pygments_lexer": "ipython3",
   "version": "3.11.3"
  }
 },
 "nbformat": 4,
 "nbformat_minor": 2
}
